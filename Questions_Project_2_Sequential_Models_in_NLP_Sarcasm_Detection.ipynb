{
  "nbformat": 4,
  "nbformat_minor": 0,
  "metadata": {
    "accelerator": "GPU",
    "colab": {
      "name": "Questions - Project 2 - Sequential Models in NLP - Sarcasm Detection.ipynb",
      "provenance": [],
      "collapsed_sections": [],
      "toc_visible": true
    },
    "kernelspec": {
      "display_name": "Python 3",
      "language": "python",
      "name": "python3"
    },
    "language_info": {
      "codemirror_mode": {
        "name": "ipython",
        "version": 3
      },
      "file_extension": ".py",
      "mimetype": "text/x-python",
      "name": "python",
      "nbconvert_exporter": "python",
      "pygments_lexer": "ipython3",
      "version": "3.7.3"
    }
  },
  "cells": [
    {
      "cell_type": "markdown",
      "metadata": {
        "id": "bI7SIeJ_oZMU"
      },
      "source": [
        "<img src=\"http://drive.google.com/uc?export=view&id=1tpOCamr9aWz817atPnyXus8w5gJ3mIts\" width=500px>\n",
        "\n",
        "Proprietary content. © Great Learning. All Rights Reserved. Unauthorized use or distribution prohibited."
      ]
    },
    {
      "cell_type": "markdown",
      "metadata": {
        "id": "Eukag7wEoPZu"
      },
      "source": [
        "### Package Version:\n",
        "- tensorflow==2.2.0\n",
        "- pandas==1.0.5\n",
        "- numpy==1.18.5\n",
        "- google==2.0.3"
      ]
    },
    {
      "cell_type": "markdown",
      "metadata": {
        "id": "pp68FAQf9aMN"
      },
      "source": [
        "# Sarcasm Detection"
      ]
    },
    {
      "cell_type": "markdown",
      "metadata": {
        "id": "bEahVPtWX5ve"
      },
      "source": [
        "### Dataset\n",
        "\n",
        "#### Acknowledgement\n",
        "Misra, Rishabh, and Prahal Arora. \"Sarcasm Detection using Hybrid Neural Network.\" arXiv preprint arXiv:1908.07414 (2019).\n",
        "\n",
        "**Required Files given in below link.**\n",
        "\n",
        "https://drive.google.com/drive/folders/1xUnF35naPGU63xwRDVGc-DkZ3M8V5mMk"
      ]
    },
    {
      "cell_type": "markdown",
      "metadata": {
        "id": "vAk6BRUh8CqL"
      },
      "source": [
        "### Load Data (5 Marks)"
      ]
    },
    {
      "cell_type": "code",
      "metadata": {
        "id": "te7f3cB146QY"
      },
      "source": [
        "import numpy as np # linear algebra\r\n",
        "import matplotlib.pyplot as plt\r\n",
        "import pandas as pd # data processing\r\n",
        "import json\r\n",
        "import tensorflow as tf\r\n",
        "from tensorflow.keras.layers import Dense,GlobalAveragePooling1D,Embedding\r\n",
        "from tensorflow.keras.preprocessing.text import Tokenizer\r\n",
        "from tensorflow.keras.preprocessing.sequence import pad_sequences\r\n",
        "from keras.preprocessing import sequence\r\n",
        "from tensorflow.keras import Sequential,Model,Input\r\n",
        "from keras.models import Sequential\r\n",
        "from keras.layers import Dense, Flatten, Embedding, LSTM, Dropout, Activation"
      ],
      "execution_count": 38,
      "outputs": []
    },
    {
      "cell_type": "code",
      "metadata": {
        "id": "v8-PQsV0DrAZ",
        "colab": {
          "base_uri": "https://localhost:8080/"
        },
        "outputId": "a055e84c-3e2c-4a98-824c-eb0afeb518bd"
      },
      "source": [
        "from google.colab import drive\r\n",
        "drive.mount('/content/drive')"
      ],
      "execution_count": 3,
      "outputs": [
        {
          "output_type": "stream",
          "text": [
            "Mounted at /content/drive\n"
          ],
          "name": "stdout"
        }
      ]
    },
    {
      "cell_type": "code",
      "metadata": {
        "id": "vFarxPN4waL4"
      },
      "source": [
        "project_path = '/content/drive/My Drive/Notebooks/Data/'"
      ],
      "execution_count": 4,
      "outputs": []
    },
    {
      "cell_type": "code",
      "metadata": {
        "id": "Rbcq4w4GxRcq"
      },
      "source": [
        "json_path = project_path + 'Sarcasm_Headlines_Dataset.json'"
      ],
      "execution_count": 5,
      "outputs": []
    },
    {
      "cell_type": "code",
      "metadata": {
        "id": "vZHcS_X8xfqk"
      },
      "source": [
        "def parseJson (fname):\r\n",
        "  for line in open(fname, 'r'):\r\n",
        "    yield eval(line)"
      ],
      "execution_count": 6,
      "outputs": []
    },
    {
      "cell_type": "code",
      "metadata": {
        "id": "HqGU-JVX3lVP"
      },
      "source": [
        "Data = list(parseJson(json_path))"
      ],
      "execution_count": 7,
      "outputs": []
    },
    {
      "cell_type": "markdown",
      "metadata": {
        "id": "z6pXf7A78E2H"
      },
      "source": [
        "### Drop `article_link` from dataset (5 Marks)"
      ]
    },
    {
      "cell_type": "code",
      "metadata": {
        "id": "-WUNHq5zEV0n"
      },
      "source": [
        "sens = []\r\n",
        "labels = []\r\n",
        "for line in open(json_path, 'r'):\r\n",
        "    temp = []\r\n",
        "    temp.append(json.loads(line))\r\n",
        "    sens.append(temp[0][\"headline\"])\r\n",
        "    labels.append(temp[0][\"is_sarcastic\"])"
      ],
      "execution_count": 8,
      "outputs": []
    },
    {
      "cell_type": "code",
      "metadata": {
        "id": "bf0ve53C4_gM"
      },
      "source": [
        "df = pd.DataFrame(columns = [\"sens\",\"labels\"])\r\n",
        "df[\"sens\"] = np.array(sens)\r\n",
        "df[\"labels\"] = np.array(labels)"
      ],
      "execution_count": 9,
      "outputs": []
    },
    {
      "cell_type": "code",
      "metadata": {
        "colab": {
          "base_uri": "https://localhost:8080/",
          "height": 206
        },
        "id": "7bJGc0Hk5ceH",
        "outputId": "61e6f19d-e056-4b26-dd8d-dc3d3a20b0ae"
      },
      "source": [
        "df.head()"
      ],
      "execution_count": 10,
      "outputs": [
        {
          "output_type": "execute_result",
          "data": {
            "text/html": [
              "<div>\n",
              "<style scoped>\n",
              "    .dataframe tbody tr th:only-of-type {\n",
              "        vertical-align: middle;\n",
              "    }\n",
              "\n",
              "    .dataframe tbody tr th {\n",
              "        vertical-align: top;\n",
              "    }\n",
              "\n",
              "    .dataframe thead th {\n",
              "        text-align: right;\n",
              "    }\n",
              "</style>\n",
              "<table border=\"1\" class=\"dataframe\">\n",
              "  <thead>\n",
              "    <tr style=\"text-align: right;\">\n",
              "      <th></th>\n",
              "      <th>sens</th>\n",
              "      <th>labels</th>\n",
              "    </tr>\n",
              "  </thead>\n",
              "  <tbody>\n",
              "    <tr>\n",
              "      <th>0</th>\n",
              "      <td>former versace store clerk sues over secret 'b...</td>\n",
              "      <td>0</td>\n",
              "    </tr>\n",
              "    <tr>\n",
              "      <th>1</th>\n",
              "      <td>the 'roseanne' revival catches up to our thorn...</td>\n",
              "      <td>0</td>\n",
              "    </tr>\n",
              "    <tr>\n",
              "      <th>2</th>\n",
              "      <td>mom starting to fear son's web series closest ...</td>\n",
              "      <td>1</td>\n",
              "    </tr>\n",
              "    <tr>\n",
              "      <th>3</th>\n",
              "      <td>boehner just wants wife to listen, not come up...</td>\n",
              "      <td>1</td>\n",
              "    </tr>\n",
              "    <tr>\n",
              "      <th>4</th>\n",
              "      <td>j.k. rowling wishes snape happy birthday in th...</td>\n",
              "      <td>0</td>\n",
              "    </tr>\n",
              "  </tbody>\n",
              "</table>\n",
              "</div>"
            ],
            "text/plain": [
              "                                                sens  labels\n",
              "0  former versace store clerk sues over secret 'b...       0\n",
              "1  the 'roseanne' revival catches up to our thorn...       0\n",
              "2  mom starting to fear son's web series closest ...       1\n",
              "3  boehner just wants wife to listen, not come up...       1\n",
              "4  j.k. rowling wishes snape happy birthday in th...       0"
            ]
          },
          "metadata": {
            "tags": []
          },
          "execution_count": 10
        }
      ]
    },
    {
      "cell_type": "code",
      "metadata": {
        "colab": {
          "base_uri": "https://localhost:8080/",
          "height": 297
        },
        "id": "dWJeIS2JXZcP",
        "outputId": "232623fd-18cf-4761-d765-9112a6b2ed8e"
      },
      "source": [
        "import seaborn as sns\r\n",
        "sns.countplot(x = 'labels',data = df)"
      ],
      "execution_count": 15,
      "outputs": [
        {
          "output_type": "execute_result",
          "data": {
            "text/plain": [
              "<matplotlib.axes._subplots.AxesSubplot at 0x7f3bbf7bd940>"
            ]
          },
          "metadata": {
            "tags": []
          },
          "execution_count": 15
        },
        {
          "output_type": "display_data",
          "data": {
            "image/png": "[encoded data removed]",
            "text/plain": [
              "<Figure size 432x288 with 1 Axes>"
            ]
          },
          "metadata": {
            "tags": [],
            "needs_background": "light"
          }
        }
      ]
    },
    {
      "cell_type": "markdown",
      "metadata": {
        "id": "D0h6IOxU8OdH"
      },
      "source": [
        "### Get length of each headline and add a column for that (5 Marks)"
      ]
    },
    {
      "cell_type": "code",
      "metadata": {
        "id": "MLpiBRDmEV2l",
        "colab": {
          "base_uri": "https://localhost:8080/"
        },
        "outputId": "c51173ca-42d0-406b-b9a9-4dd7308c1c27"
      },
      "source": [
        "print(\"sens Length:\",len(sens),\"\\nlabels Length:\",len(labels))"
      ],
      "execution_count": 16,
      "outputs": [
        {
          "output_type": "stream",
          "text": [
            "sens Length: 26709 \n",
            "labels Length: 26709\n"
          ],
          "name": "stdout"
        }
      ]
    },
    {
      "cell_type": "code",
      "metadata": {
        "id": "wu3qhQF98Iw4"
      },
      "source": [
        "df['lenght'] = df['sens'].str.len()"
      ],
      "execution_count": 17,
      "outputs": []
    },
    {
      "cell_type": "code",
      "metadata": {
        "colab": {
          "base_uri": "https://localhost:8080/",
          "height": 206
        },
        "id": "CGLLKSKn8UmJ",
        "outputId": "8ae6a2ee-2c50-40a2-eb27-f7d4fbf53712"
      },
      "source": [
        "df.head()"
      ],
      "execution_count": 18,
      "outputs": [
        {
          "output_type": "execute_result",
          "data": {
            "text/html": [
              "<div>\n",
              "<style scoped>\n",
              "    .dataframe tbody tr th:only-of-type {\n",
              "        vertical-align: middle;\n",
              "    }\n",
              "\n",
              "    .dataframe tbody tr th {\n",
              "        vertical-align: top;\n",
              "    }\n",
              "\n",
              "    .dataframe thead th {\n",
              "        text-align: right;\n",
              "    }\n",
              "</style>\n",
              "<table border=\"1\" class=\"dataframe\">\n",
              "  <thead>\n",
              "    <tr style=\"text-align: right;\">\n",
              "      <th></th>\n",
              "      <th>sens</th>\n",
              "      <th>labels</th>\n",
              "      <th>lenght</th>\n",
              "    </tr>\n",
              "  </thead>\n",
              "  <tbody>\n",
              "    <tr>\n",
              "      <th>0</th>\n",
              "      <td>former versace store clerk sues over secret 'b...</td>\n",
              "      <td>0</td>\n",
              "      <td>78</td>\n",
              "    </tr>\n",
              "    <tr>\n",
              "      <th>1</th>\n",
              "      <td>the 'roseanne' revival catches up to our thorn...</td>\n",
              "      <td>0</td>\n",
              "      <td>84</td>\n",
              "    </tr>\n",
              "    <tr>\n",
              "      <th>2</th>\n",
              "      <td>mom starting to fear son's web series closest ...</td>\n",
              "      <td>1</td>\n",
              "      <td>79</td>\n",
              "    </tr>\n",
              "    <tr>\n",
              "      <th>3</th>\n",
              "      <td>boehner just wants wife to listen, not come up...</td>\n",
              "      <td>1</td>\n",
              "      <td>84</td>\n",
              "    </tr>\n",
              "    <tr>\n",
              "      <th>4</th>\n",
              "      <td>j.k. rowling wishes snape happy birthday in th...</td>\n",
              "      <td>0</td>\n",
              "      <td>64</td>\n",
              "    </tr>\n",
              "  </tbody>\n",
              "</table>\n",
              "</div>"
            ],
            "text/plain": [
              "                                                sens  labels  lenght\n",
              "0  former versace store clerk sues over secret 'b...       0      78\n",
              "1  the 'roseanne' revival catches up to our thorn...       0      84\n",
              "2  mom starting to fear son's web series closest ...       1      79\n",
              "3  boehner just wants wife to listen, not come up...       1      84\n",
              "4  j.k. rowling wishes snape happy birthday in th...       0      64"
            ]
          },
          "metadata": {
            "tags": []
          },
          "execution_count": 18
        }
      ]
    },
    {
      "cell_type": "markdown",
      "metadata": {
        "id": "SMF-wjJ2aMwm"
      },
      "source": [
        "### Initialize parameter values\n",
        "- Set values for max_features, maxlen, & embedding_size\n",
        "- max_features: Number of words to take from tokenizer(most frequent words)\n",
        "- maxlen: Maximum length of each sentence to be limited to 25\n",
        "- embedding_size: size of embedding vector"
      ]
    },
    {
      "cell_type": "code",
      "metadata": {
        "id": "jPw9gAN_EV6m"
      },
      "source": [
        "max_features = 10000\n",
        "maxlen = 25\n",
        "embedding_size = 200"
      ],
      "execution_count": 19,
      "outputs": []
    },
    {
      "cell_type": "markdown",
      "metadata": {
        "id": "9abSe-bM8fn9"
      },
      "source": [
        "### Apply `tensorflow.keras` Tokenizer and get indices for words (5 Marks)\n",
        "- Initialize Tokenizer object with number of words as 10000\n",
        "- Fit the tokenizer object on headline column\n",
        "- Convert the text to sequence\n"
      ]
    },
    {
      "cell_type": "code",
      "metadata": {
        "id": "y8g4l0KfF3eh"
      },
      "source": [
        "tokenizer = Tokenizer(max_features)"
      ],
      "execution_count": 20,
      "outputs": []
    },
    {
      "cell_type": "code",
      "metadata": {
        "id": "52382ULI-QGR"
      },
      "source": [
        "tokenizer.fit_on_texts(sens)\r\n",
        "sequences = tokenizer.texts_to_sequences(sens)"
      ],
      "execution_count": 21,
      "outputs": []
    },
    {
      "cell_type": "markdown",
      "metadata": {
        "id": "xeZpwPO4bOkZ"
      },
      "source": [
        "### Pad sequences (5 Marks)\n",
        "- Pad each example with a maximum length\n",
        "- Convert target column into numpy array"
      ]
    },
    {
      "cell_type": "code",
      "metadata": {
        "id": "qV0K70E5c9Xl"
      },
      "source": [
        "sequences = tokenizer.texts_to_sequences(sens)\r\n",
        "X = pad_sequences(sequences, maxlen, padding='post')"
      ],
      "execution_count": 34,
      "outputs": []
    },
    {
      "cell_type": "code",
      "metadata": {
        "colab": {
          "base_uri": "https://localhost:8080/"
        },
        "id": "LOpY19-B--f1",
        "outputId": "4b709541-98b8-4d05-d523-b6744176580e"
      },
      "source": [
        "df.head"
      ],
      "execution_count": 23,
      "outputs": [
        {
          "output_type": "execute_result",
          "data": {
            "text/plain": [
              "<bound method NDFrame.head of                                                     sens  labels  lenght\n",
              "0      former versace store clerk sues over secret 'b...       0      78\n",
              "1      the 'roseanne' revival catches up to our thorn...       0      84\n",
              "2      mom starting to fear son's web series closest ...       1      79\n",
              "3      boehner just wants wife to listen, not come up...       1      84\n",
              "4      j.k. rowling wishes snape happy birthday in th...       0      64\n",
              "...                                                  ...     ...     ...\n",
              "26704               american politics in moral free-fall       0      36\n",
              "26705                            america's best 20 hikes       0      23\n",
              "26706                              reparations and obama       0      21\n",
              "26707  israeli ban targeting boycott supporters raise...       0      60\n",
              "26708                  gourmet gifts for the foodie 2014       0      33\n",
              "\n",
              "[26709 rows x 3 columns]>"
            ]
          },
          "metadata": {
            "tags": []
          },
          "execution_count": 23
        }
      ]
    },
    {
      "cell_type": "code",
      "metadata": {
        "id": "VAfSdcBHDtmo"
      },
      "source": [
        "y = df['labels'].values"
      ],
      "execution_count": 35,
      "outputs": []
    },
    {
      "cell_type": "markdown",
      "metadata": {
        "id": "WJLyKg-98rH_"
      },
      "source": [
        "### Vocab mapping\n",
        "- There is no word for 0th index"
      ]
    },
    {
      "cell_type": "code",
      "metadata": {
        "id": "vCNgtnQqdbZn",
        "colab": {
          "base_uri": "https://localhost:8080/"
        },
        "outputId": "5671ce58-392c-4575-8506-c89db1846ac7"
      },
      "source": [
        "tokenizer.word_index"
      ],
      "execution_count": 25,
      "outputs": [
        {
          "output_type": "execute_result",
          "data": {
            "text/plain": [
              "{'to': 1,\n",
              " 'of': 2,\n",
              " 'the': 3,\n",
              " 'in': 4,\n",
              " 'for': 5,\n",
              " 'a': 6,\n",
              " 'on': 7,\n",
              " 'and': 8,\n",
              " 'with': 9,\n",
              " 'is': 10,\n",
              " 'new': 11,\n",
              " 'trump': 12,\n",
              " 'man': 13,\n",
              " 'from': 14,\n",
              " 'at': 15,\n",
              " 'about': 16,\n",
              " 'you': 17,\n",
              " 'this': 18,\n",
              " 'by': 19,\n",
              " 'after': 20,\n",
              " 'up': 21,\n",
              " 'out': 22,\n",
              " 'be': 23,\n",
              " 'how': 24,\n",
              " 'as': 25,\n",
              " 'it': 26,\n",
              " 'that': 27,\n",
              " 'not': 28,\n",
              " 'are': 29,\n",
              " 'your': 30,\n",
              " 'his': 31,\n",
              " 'what': 32,\n",
              " 'he': 33,\n",
              " 'all': 34,\n",
              " 'just': 35,\n",
              " 'who': 36,\n",
              " 'has': 37,\n",
              " 'will': 38,\n",
              " 'more': 39,\n",
              " 'one': 40,\n",
              " 'into': 41,\n",
              " 'report': 42,\n",
              " 'year': 43,\n",
              " 'why': 44,\n",
              " 'have': 45,\n",
              " 'area': 46,\n",
              " 'over': 47,\n",
              " 'donald': 48,\n",
              " 'u': 49,\n",
              " 'day': 50,\n",
              " 'says': 51,\n",
              " 's': 52,\n",
              " 'can': 53,\n",
              " 'first': 54,\n",
              " 'woman': 55,\n",
              " 'time': 56,\n",
              " 'like': 57,\n",
              " 'her': 58,\n",
              " \"trump's\": 59,\n",
              " 'old': 60,\n",
              " 'no': 61,\n",
              " 'get': 62,\n",
              " 'off': 63,\n",
              " 'an': 64,\n",
              " 'life': 65,\n",
              " 'people': 66,\n",
              " 'obama': 67,\n",
              " 'now': 68,\n",
              " 'house': 69,\n",
              " 'still': 70,\n",
              " \"'\": 71,\n",
              " 'women': 72,\n",
              " 'make': 73,\n",
              " 'was': 74,\n",
              " 'than': 75,\n",
              " 'white': 76,\n",
              " 'back': 77,\n",
              " 'my': 78,\n",
              " 'i': 79,\n",
              " 'clinton': 80,\n",
              " 'down': 81,\n",
              " 'if': 82,\n",
              " '5': 83,\n",
              " 'when': 84,\n",
              " 'world': 85,\n",
              " 'could': 86,\n",
              " 'we': 87,\n",
              " 'their': 88,\n",
              " 'before': 89,\n",
              " 'americans': 90,\n",
              " 'way': 91,\n",
              " 'do': 92,\n",
              " 'family': 93,\n",
              " 'most': 94,\n",
              " 'gop': 95,\n",
              " 'they': 96,\n",
              " 'study': 97,\n",
              " 'school': 98,\n",
              " \"it's\": 99,\n",
              " 'black': 100,\n",
              " 'best': 101,\n",
              " 'years': 102,\n",
              " 'bill': 103,\n",
              " 'should': 104,\n",
              " '3': 105,\n",
              " 'him': 106,\n",
              " 'would': 107,\n",
              " 'so': 108,\n",
              " 'police': 109,\n",
              " 'only': 110,\n",
              " 'watch': 111,\n",
              " 'american': 112,\n",
              " 'really': 113,\n",
              " 'being': 114,\n",
              " 'but': 115,\n",
              " 'last': 116,\n",
              " 'know': 117,\n",
              " '10': 118,\n",
              " \"can't\": 119,\n",
              " 'death': 120,\n",
              " 'home': 121,\n",
              " 'during': 122,\n",
              " 'video': 123,\n",
              " 'finds': 124,\n",
              " 'state': 125,\n",
              " 'or': 126,\n",
              " 'president': 127,\n",
              " 'health': 128,\n",
              " 'going': 129,\n",
              " 'say': 130,\n",
              " 'show': 131,\n",
              " 'nation': 132,\n",
              " 'good': 133,\n",
              " 'things': 134,\n",
              " 'hillary': 135,\n",
              " \"'the\": 136,\n",
              " 'may': 137,\n",
              " '2': 138,\n",
              " 'against': 139,\n",
              " 'campaign': 140,\n",
              " 'every': 141,\n",
              " 'she': 142,\n",
              " 'love': 143,\n",
              " 'mom': 144,\n",
              " 'need': 145,\n",
              " 'big': 146,\n",
              " 'right': 147,\n",
              " 'party': 148,\n",
              " 'gets': 149,\n",
              " '000': 150,\n",
              " 'too': 151,\n",
              " 'getting': 152,\n",
              " 'these': 153,\n",
              " 'kids': 154,\n",
              " 'some': 155,\n",
              " 'parents': 156,\n",
              " 'work': 157,\n",
              " 'court': 158,\n",
              " 'little': 159,\n",
              " 'change': 160,\n",
              " 'take': 161,\n",
              " 'high': 162,\n",
              " 'makes': 163,\n",
              " 'self': 164,\n",
              " 'our': 165,\n",
              " 'calls': 166,\n",
              " 'john': 167,\n",
              " 'other': 168,\n",
              " 'news': 169,\n",
              " 'through': 170,\n",
              " \"doesn't\": 171,\n",
              " 'while': 172,\n",
              " \"here's\": 173,\n",
              " 'never': 174,\n",
              " 'child': 175,\n",
              " 'gay': 176,\n",
              " 'dead': 177,\n",
              " 'look': 178,\n",
              " 'election': 179,\n",
              " 'want': 180,\n",
              " 'own': 181,\n",
              " '4': 182,\n",
              " \"don't\": 183,\n",
              " 'see': 184,\n",
              " 'takes': 185,\n",
              " 'america': 186,\n",
              " '7': 187,\n",
              " 'local': 188,\n",
              " 'real': 189,\n",
              " 'where': 190,\n",
              " 'next': 191,\n",
              " 'stop': 192,\n",
              " 'even': 193,\n",
              " 'its': 194,\n",
              " \"he's\": 195,\n",
              " 'war': 196,\n",
              " 'college': 197,\n",
              " 'go': 198,\n",
              " '6': 199,\n",
              " \"nation's\": 200,\n",
              " 'sex': 201,\n",
              " 'bush': 202,\n",
              " 'made': 203,\n",
              " 'plan': 204,\n",
              " 'office': 205,\n",
              " 'again': 206,\n",
              " 'guy': 207,\n",
              " 'two': 208,\n",
              " 'dad': 209,\n",
              " 'another': 210,\n",
              " 'around': 211,\n",
              " 'dog': 212,\n",
              " 'got': 213,\n",
              " '1': 214,\n",
              " 'million': 215,\n",
              " 'ever': 216,\n",
              " 'week': 217,\n",
              " 'baby': 218,\n",
              " 'debate': 219,\n",
              " 'thing': 220,\n",
              " 'them': 221,\n",
              " 'gun': 222,\n",
              " 'wants': 223,\n",
              " 'care': 224,\n",
              " 'us': 225,\n",
              " 'help': 226,\n",
              " 'much': 227,\n",
              " 'long': 228,\n",
              " 'night': 229,\n",
              " 'congress': 230,\n",
              " 'job': 231,\n",
              " 'finally': 232,\n",
              " 'north': 233,\n",
              " 'been': 234,\n",
              " 'under': 235,\n",
              " \"man's\": 236,\n",
              " 'actually': 237,\n",
              " 'star': 238,\n",
              " 'national': 239,\n",
              " 'live': 240,\n",
              " 'climate': 241,\n",
              " 'season': 242,\n",
              " 'money': 243,\n",
              " 'couple': 244,\n",
              " \"won't\": 245,\n",
              " '8': 246,\n",
              " '9': 247,\n",
              " 'top': 248,\n",
              " 'god': 249,\n",
              " 'anti': 250,\n",
              " 'media': 251,\n",
              " 'food': 252,\n",
              " 'ways': 253,\n",
              " '20': 254,\n",
              " 'shows': 255,\n",
              " 'sexual': 256,\n",
              " 'better': 257,\n",
              " 'give': 258,\n",
              " 'shooting': 259,\n",
              " 'had': 260,\n",
              " 'teen': 261,\n",
              " 'face': 262,\n",
              " 'making': 263,\n",
              " 'game': 264,\n",
              " 'paul': 265,\n",
              " 'reveals': 266,\n",
              " 'me': 267,\n",
              " 'trying': 268,\n",
              " 'senate': 269,\n",
              " 'supreme': 270,\n",
              " 'announces': 271,\n",
              " 'there': 272,\n",
              " 'away': 273,\n",
              " 'men': 274,\n",
              " 'history': 275,\n",
              " 'business': 276,\n",
              " 'bad': 277,\n",
              " 'without': 278,\n",
              " 'students': 279,\n",
              " 'everyone': 280,\n",
              " 'attack': 281,\n",
              " 'end': 282,\n",
              " 'story': 283,\n",
              " 'fight': 284,\n",
              " 'facebook': 285,\n",
              " 'son': 286,\n",
              " 'free': 287,\n",
              " 'children': 288,\n",
              " 'enough': 289,\n",
              " 'tv': 290,\n",
              " 'law': 291,\n",
              " 'movie': 292,\n",
              " 'city': 293,\n",
              " 'any': 294,\n",
              " 'introduces': 295,\n",
              " 'pope': 296,\n",
              " 'deal': 297,\n",
              " 'government': 298,\n",
              " 'body': 299,\n",
              " 'part': 300,\n",
              " 'york': 301,\n",
              " '11': 302,\n",
              " 'tell': 303,\n",
              " 'great': 304,\n",
              " 'film': 305,\n",
              " 'does': 306,\n",
              " 'former': 307,\n",
              " 'single': 308,\n",
              " 'entire': 309,\n",
              " 'friends': 310,\n",
              " 'fire': 311,\n",
              " 'call': 312,\n",
              " 'found': 313,\n",
              " 'friend': 314,\n",
              " 'book': 315,\n",
              " 'wedding': 316,\n",
              " 'think': 317,\n",
              " 'come': 318,\n",
              " 'republican': 319,\n",
              " 'must': 320,\n",
              " 'girl': 321,\n",
              " 'find': 322,\n",
              " 'second': 323,\n",
              " 'middle': 324,\n",
              " 'morning': 325,\n",
              " 'support': 326,\n",
              " 'same': 327,\n",
              " 'speech': 328,\n",
              " 'public': 329,\n",
              " 'photos': 330,\n",
              " 'use': 331,\n",
              " 'talk': 332,\n",
              " 'line': 333,\n",
              " 'car': 334,\n",
              " 'sanders': 335,\n",
              " 'name': 336,\n",
              " 'keep': 337,\n",
              " 'thinks': 338,\n",
              " 'run': 339,\n",
              " 'already': 340,\n",
              " 'looking': 341,\n",
              " 'presidential': 342,\n",
              " 'coming': 343,\n",
              " 'james': 344,\n",
              " 'republicans': 345,\n",
              " 'email': 346,\n",
              " \"didn't\": 347,\n",
              " 'tax': 348,\n",
              " 'pretty': 349,\n",
              " 'case': 350,\n",
              " 'company': 351,\n",
              " 'behind': 352,\n",
              " 'rights': 353,\n",
              " 'power': 354,\n",
              " 'open': 355,\n",
              " 'future': 356,\n",
              " 'marriage': 357,\n",
              " 'between': 358,\n",
              " 'releases': 359,\n",
              " 'violence': 360,\n",
              " 'christmas': 361,\n",
              " 'security': 362,\n",
              " '2016': 363,\n",
              " \"world's\": 364,\n",
              " 'used': 365,\n",
              " 'human': 366,\n",
              " 'killed': 367,\n",
              " 'voters': 368,\n",
              " 'once': 369,\n",
              " 'control': 370,\n",
              " 'goes': 371,\n",
              " 'group': 372,\n",
              " 'vote': 373,\n",
              " 'win': 374,\n",
              " 'might': 375,\n",
              " 'democrats': 376,\n",
              " 'student': 377,\n",
              " 'full': 378,\n",
              " 'something': 379,\n",
              " 'doing': 380,\n",
              " 'secret': 381,\n",
              " 'asks': 382,\n",
              " 'fans': 383,\n",
              " '12': 384,\n",
              " 'having': 385,\n",
              " 'team': 386,\n",
              " 'bernie': 387,\n",
              " 'department': 388,\n",
              " 'twitter': 389,\n",
              " 'room': 390,\n",
              " 'ban': 391,\n",
              " 'ad': 392,\n",
              " 'because': 393,\n",
              " 'poll': 394,\n",
              " 'teacher': 395,\n",
              " 'female': 396,\n",
              " 'post': 397,\n",
              " 'each': 398,\n",
              " 'wife': 399,\n",
              " 'inside': 400,\n",
              " 'ryan': 401,\n",
              " 'sure': 402,\n",
              " 'race': 403,\n",
              " 'claims': 404,\n",
              " 'music': 405,\n",
              " 'three': 406,\n",
              " 'meet': 407,\n",
              " 'record': 408,\n",
              " 'art': 409,\n",
              " 'forced': 410,\n",
              " 'boy': 411,\n",
              " '15': 412,\n",
              " 'missing': 413,\n",
              " 'many': 414,\n",
              " 'political': 415,\n",
              " 'unveils': 416,\n",
              " 'perfect': 417,\n",
              " 'head': 418,\n",
              " 'super': 419,\n",
              " 'very': 420,\n",
              " 'photo': 421,\n",
              " 'judge': 422,\n",
              " 'running': 423,\n",
              " 'reports': 424,\n",
              " 'red': 425,\n",
              " 'father': 426,\n",
              " 'save': 427,\n",
              " 'class': 428,\n",
              " 'scientists': 429,\n",
              " 'month': 430,\n",
              " 'plans': 431,\n",
              " 'days': 432,\n",
              " 'country': 433,\n",
              " 'person': 434,\n",
              " 'living': 435,\n",
              " 'tells': 436,\n",
              " 'social': 437,\n",
              " 'minutes': 438,\n",
              " 'put': 439,\n",
              " 'summer': 440,\n",
              " 'everything': 441,\n",
              " 'dies': 442,\n",
              " 'california': 443,\n",
              " 'always': 444,\n",
              " 'until': 445,\n",
              " 'obamacare': 446,\n",
              " 'states': 447,\n",
              " 'here': 448,\n",
              " 'pay': 449,\n",
              " 'ready': 450,\n",
              " 'texas': 451,\n",
              " 'were': 452,\n",
              " 'michael': 453,\n",
              " 'looks': 454,\n",
              " 'employee': 455,\n",
              " 'talks': 456,\n",
              " 'candidate': 457,\n",
              " 'needs': 458,\n",
              " 'did': 459,\n",
              " 'eating': 460,\n",
              " 'working': 461,\n",
              " 'water': 462,\n",
              " 'list': 463,\n",
              " 'justice': 464,\n",
              " 'secretary': 465,\n",
              " 'shot': 466,\n",
              " 'hot': 467,\n",
              " 'warns': 468,\n",
              " 'times': 469,\n",
              " 'comes': 470,\n",
              " 'past': 471,\n",
              " 'admits': 472,\n",
              " 'set': 473,\n",
              " 'start': 474,\n",
              " 'taking': 475,\n",
              " 'wall': 476,\n",
              " 'heart': 477,\n",
              " 'ceo': 478,\n",
              " 'ex': 479,\n",
              " 'thought': 480,\n",
              " \"'i\": 481,\n",
              " 'lives': 482,\n",
              " 'age': 483,\n",
              " 'left': 484,\n",
              " 'mike': 485,\n",
              " 'mother': 486,\n",
              " 'town': 487,\n",
              " 'gives': 488,\n",
              " '30': 489,\n",
              " 'let': 490,\n",
              " 'cruz': 491,\n",
              " \"women's\": 492,\n",
              " 'kim': 493,\n",
              " 'russia': 494,\n",
              " 'idea': 495,\n",
              " 'drug': 496,\n",
              " 'chief': 497,\n",
              " 'phone': 498,\n",
              " \"you're\": 499,\n",
              " 'cancer': 500,\n",
              " 'george': 501,\n",
              " 'crisis': 502,\n",
              " 'service': 503,\n",
              " 'biden': 504,\n",
              " 'wins': 505,\n",
              " 'hours': 506,\n",
              " \"i'm\": 507,\n",
              " 'letter': 508,\n",
              " 'wrong': 509,\n",
              " 'tips': 510,\n",
              " 'meeting': 511,\n",
              " 'south': 512,\n",
              " 'korea': 513,\n",
              " 'lost': 514,\n",
              " 'breaking': 515,\n",
              " 'daughter': 516,\n",
              " 'air': 517,\n",
              " '50': 518,\n",
              " 'probably': 519,\n",
              " 'young': 520,\n",
              " 'fbi': 521,\n",
              " 'street': 522,\n",
              " 'dream': 523,\n",
              " 'percent': 524,\n",
              " 'yet': 525,\n",
              " 'education': 526,\n",
              " 'isis': 527,\n",
              " 'romney': 528,\n",
              " 'word': 529,\n",
              " 'thousands': 530,\n",
              " 'restaurant': 531,\n",
              " 'small': 532,\n",
              " 'nuclear': 533,\n",
              " 'fucking': 534,\n",
              " 'kill': 535,\n",
              " 'today': 536,\n",
              " 'believe': 537,\n",
              " 'king': 538,\n",
              " 'tweets': 539,\n",
              " 'together': 540,\n",
              " 'half': 541,\n",
              " 'someone': 542,\n",
              " 'ted': 543,\n",
              " 'hard': 544,\n",
              " 'questions': 545,\n",
              " 'military': 546,\n",
              " 'march': 547,\n",
              " \"she's\": 548,\n",
              " 'few': 549,\n",
              " 'administration': 550,\n",
              " 'owner': 551,\n",
              " 'feel': 552,\n",
              " 'cat': 553,\n",
              " 'leaves': 554,\n",
              " 'fan': 555,\n",
              " 'internet': 556,\n",
              " 'officials': 557,\n",
              " 'third': 558,\n",
              " 'talking': 559,\n",
              " 'nothing': 560,\n",
              " 'director': 561,\n",
              " 'federal': 562,\n",
              " 'sleep': 563,\n",
              " 'chris': 564,\n",
              " 'rock': 565,\n",
              " 'place': 566,\n",
              " \"what's\": 567,\n",
              " 'washington': 568,\n",
              " 'guide': 569,\n",
              " 'online': 570,\n",
              " 'attacks': 571,\n",
              " 'muslim': 572,\n",
              " 'earth': 573,\n",
              " 'giving': 574,\n",
              " 'move': 575,\n",
              " 'lot': 576,\n",
              " 'florida': 577,\n",
              " 'ask': 578,\n",
              " 'iran': 579,\n",
              " 'latest': 580,\n",
              " 'series': 581,\n",
              " 'holiday': 582,\n",
              " 'congressman': 583,\n",
              " 'community': 584,\n",
              " 'abortion': 585,\n",
              " 'well': 586,\n",
              " 'order': 587,\n",
              " 'buy': 588,\n",
              " 'personal': 589,\n",
              " 'less': 590,\n",
              " 'months': 591,\n",
              " 'majority': 592,\n",
              " 'birthday': 593,\n",
              " 'hour': 594,\n",
              " 't': 595,\n",
              " 'prison': 596,\n",
              " '2015': 597,\n",
              " 'democratic': 598,\n",
              " 'outside': 599,\n",
              " 'problem': 600,\n",
              " 'leave': 601,\n",
              " 'assault': 602,\n",
              " 'those': 603,\n",
              " 'shit': 604,\n",
              " 'travel': 605,\n",
              " 'hollywood': 606,\n",
              " 'wearing': 607,\n",
              " 'beautiful': 608,\n",
              " 'girlfriend': 609,\n",
              " \"isn't\": 610,\n",
              " 'ice': 611,\n",
              " 'reason': 612,\n",
              " 'bar': 613,\n",
              " 'francis': 614,\n",
              " 'told': 615,\n",
              " 'different': 616,\n",
              " 'favorite': 617,\n",
              " 'issues': 618,\n",
              " 'cover': 619,\n",
              " 'rules': 620,\n",
              " 'rise': 621,\n",
              " 'happy': 622,\n",
              " 'fox': 623,\n",
              " 'fun': 624,\n",
              " 'special': 625,\n",
              " 'mark': 626,\n",
              " 'system': 627,\n",
              " 'read': 628,\n",
              " 'watching': 629,\n",
              " 'reasons': 630,\n",
              " 'girls': 631,\n",
              " 'straight': 632,\n",
              " 'play': 633,\n",
              " \"america's\": 634,\n",
              " 'al': 635,\n",
              " 'celebrates': 636,\n",
              " \"obama's\": 637,\n",
              " 'minute': 638,\n",
              " 'thinking': 639,\n",
              " 'hate': 640,\n",
              " 'excited': 641,\n",
              " 'relationship': 642,\n",
              " 'trip': 643,\n",
              " 'hit': 644,\n",
              " 'response': 645,\n",
              " 'huffpost': 646,\n",
              " 'knows': 647,\n",
              " 'russian': 648,\n",
              " 'immigration': 649,\n",
              " 'protest': 650,\n",
              " 'scott': 651,\n",
              " 'following': 652,\n",
              " '100': 653,\n",
              " 'using': 654,\n",
              " 'offers': 655,\n",
              " 'front': 656,\n",
              " 'message': 657,\n",
              " 'trailer': 658,\n",
              " 'stars': 659,\n",
              " 'leaders': 660,\n",
              " 'visit': 661,\n",
              " 'stephen': 662,\n",
              " 'hair': 663,\n",
              " 'huge': 664,\n",
              " 'box': 665,\n",
              " 'gift': 666,\n",
              " 'david': 667,\n",
              " 'union': 668,\n",
              " 'kind': 669,\n",
              " 'kid': 670,\n",
              " 'since': 671,\n",
              " 'moment': 672,\n",
              " 'china': 673,\n",
              " 'chinese': 674,\n",
              " 'birth': 675,\n",
              " 'non': 676,\n",
              " 'cop': 677,\n",
              " 'store': 678,\n",
              " 'lessons': 679,\n",
              " 'late': 680,\n",
              " 'hope': 681,\n",
              " 'accused': 682,\n",
              " 'taylor': 683,\n",
              " 'date': 684,\n",
              " 'career': 685,\n",
              " 'interview': 686,\n",
              " 'himself': 687,\n",
              " 'politics': 688,\n",
              " 'weekend': 689,\n",
              " 'called': 690,\n",
              " 'early': 691,\n",
              " 'victims': 692,\n",
              " 'least': 693,\n",
              " 'bring': 694,\n",
              " 'senator': 695,\n",
              " 'whole': 696,\n",
              " 'tom': 697,\n",
              " 'conversation': 698,\n",
              " 'adorable': 699,\n",
              " 'waiting': 700,\n",
              " 'jimmy': 701,\n",
              " 'break': 702,\n",
              " 'sports': 703,\n",
              " 'syria': 704,\n",
              " 'powerful': 705,\n",
              " 'drunk': 706,\n",
              " 'c': 707,\n",
              " 'point': 708,\n",
              " 'united': 709,\n",
              " 'leader': 710,\n",
              " 'anything': 711,\n",
              " 'become': 712,\n",
              " 'investigation': 713,\n",
              " 'opens': 714,\n",
              " 'learned': 715,\n",
              " 'words': 716,\n",
              " 'millions': 717,\n",
              " 'k': 718,\n",
              " 'die': 719,\n",
              " 'fashion': 720,\n",
              " 'cops': 721,\n",
              " \"they're\": 722,\n",
              " 'reality': 723,\n",
              " 'billion': 724,\n",
              " 'fall': 725,\n",
              " 'key': 726,\n",
              " 'true': 727,\n",
              " 'host': 728,\n",
              " 'returns': 729,\n",
              " 'joe': 730,\n",
              " 'totally': 731,\n",
              " 'syrian': 732,\n",
              " 'killing': 733,\n",
              " 'massive': 734,\n",
              " '40': 735,\n",
              " 'almost': 736,\n",
              " 'turn': 737,\n",
              " 'breaks': 738,\n",
              " 'driving': 739,\n",
              " 'mass': 740,\n",
              " 'global': 741,\n",
              " 'dating': 742,\n",
              " 'far': 743,\n",
              " 'policy': 744,\n",
              " 'schools': 745,\n",
              " 'stand': 746,\n",
              " 'trans': 747,\n",
              " 'dinner': 748,\n",
              " 'oil': 749,\n",
              " 'apple': 750,\n",
              " 'un': 751,\n",
              " 'awards': 752,\n",
              " 'queer': 753,\n",
              " 'worried': 754,\n",
              " 'kills': 755,\n",
              " 'iraq': 756,\n",
              " 'low': 757,\n",
              " 'song': 758,\n",
              " 'dance': 759,\n",
              " 'turns': 760,\n",
              " 'puts': 761,\n",
              " 'spends': 762,\n",
              " 'stage': 763,\n",
              " 'sign': 764,\n",
              " 'candidates': 765,\n",
              " 'j': 766,\n",
              " 'vows': 767,\n",
              " 'risk': 768,\n",
              " 'bus': 769,\n",
              " 'names': 770,\n",
              " 'final': 771,\n",
              " 'planned': 772,\n",
              " 'feels': 773,\n",
              " 'anniversary': 774,\n",
              " 'lgbt': 775,\n",
              " 'signs': 776,\n",
              " 'jr': 777,\n",
              " 'murder': 778,\n",
              " 'seen': 779,\n",
              " 'prince': 780,\n",
              " 'reportedly': 781,\n",
              " 'hits': 782,\n",
              " 'light': 783,\n",
              " 'sick': 784,\n",
              " 'adds': 785,\n",
              " 'crash': 786,\n",
              " 'd': 787,\n",
              " 'worst': 788,\n",
              " 'surprise': 789,\n",
              " 'hands': 790,\n",
              " 'near': 791,\n",
              " 'transgender': 792,\n",
              " 'weird': 793,\n",
              " 'nfl': 794,\n",
              " 'return': 795,\n",
              " 'moving': 796,\n",
              " \"there's\": 797,\n",
              " 'pence': 798,\n",
              " 'mind': 799,\n",
              " 'center': 800,\n",
              " 'decision': 801,\n",
              " 'longer': 802,\n",
              " 'workers': 803,\n",
              " 'advice': 804,\n",
              " 'worth': 805,\n",
              " 'eat': 806,\n",
              " 'struggling': 807,\n",
              " 'discover': 808,\n",
              " 'oscar': 809,\n",
              " 'across': 810,\n",
              " 'style': 811,\n",
              " 'kardashian': 812,\n",
              " 'employees': 813,\n",
              " 'test': 814,\n",
              " '13': 815,\n",
              " 'cut': 816,\n",
              " 'keeps': 817,\n",
              " 'band': 818,\n",
              " 'industry': 819,\n",
              " 'experience': 820,\n",
              " 'side': 821,\n",
              " 'coffee': 822,\n",
              " 'check': 823,\n",
              " '2014': 824,\n",
              " 'number': 825,\n",
              " 'rubio': 826,\n",
              " 'brings': 827,\n",
              " 'door': 828,\n",
              " 'lead': 829,\n",
              " 'five': 830,\n",
              " 'completely': 831,\n",
              " 'hoping': 832,\n",
              " 'hand': 833,\n",
              " 'university': 834,\n",
              " '2017': 835,\n",
              " 'official': 836,\n",
              " 'starting': 837,\n",
              " 'lose': 838,\n",
              " 'whether': 839,\n",
              " 'force': 840,\n",
              " 'paris': 841,\n",
              " 'weight': 842,\n",
              " 'road': 843,\n",
              " 'space': 844,\n",
              " 'west': 845,\n",
              " 'audience': 846,\n",
              " 'important': 847,\n",
              " 'steve': 848,\n",
              " 'playing': 849,\n",
              " 'reform': 850,\n",
              " 'cool': 851,\n",
              " 'fighting': 852,\n",
              " 'suspect': 853,\n",
              " 'given': 854,\n",
              " 'defense': 855,\n",
              " 'program': 856,\n",
              " 'artist': 857,\n",
              " 'nyc': 858,\n",
              " 'williams': 859,\n",
              " 'role': 860,\n",
              " 'building': 861,\n",
              " 'michelle': 862,\n",
              " 'peace': 863,\n",
              " 'carolina': 864,\n",
              " 'remember': 865,\n",
              " 'chicago': 866,\n",
              " 'act': 867,\n",
              " 'pro': 868,\n",
              " 'possible': 869,\n",
              " 'apartment': 870,\n",
              " 'governor': 871,\n",
              " 'iowa': 872,\n",
              " 'executive': 873,\n",
              " 'success': 874,\n",
              " 'data': 875,\n",
              " 'chance': 876,\n",
              " 'ferguson': 877,\n",
              " 'amazon': 878,\n",
              " 'biggest': 879,\n",
              " 'protesters': 880,\n",
              " 'suicide': 881,\n",
              " 'hall': 882,\n",
              " 'abuse': 883,\n",
              " 'which': 884,\n",
              " 'clearly': 885,\n",
              " 'major': 886,\n",
              " 'push': 887,\n",
              " 'hurricane': 888,\n",
              " 'moore': 889,\n",
              " 'allegations': 890,\n",
              " 'halloween': 891,\n",
              " 'oscars': 892,\n",
              " 'homeless': 893,\n",
              " 'israel': 894,\n",
              " 'general': 895,\n",
              " 'mental': 896,\n",
              " 'coworker': 897,\n",
              " 'moms': 898,\n",
              " 'board': 899,\n",
              " 'close': 900,\n",
              " 'magazine': 901,\n",
              " 'question': 902,\n",
              " 'ben': 903,\n",
              " 'hear': 904,\n",
              " 'demands': 905,\n",
              " 'fear': 906,\n",
              " 'wishes': 907,\n",
              " 'opening': 908,\n",
              " 'members': 909,\n",
              " 'celebrate': 910,\n",
              " 'supporters': 911,\n",
              " 'google': 912,\n",
              " 'football': 913,\n",
              " 'voice': 914,\n",
              " 'easy': 915,\n",
              " 'teens': 916,\n",
              " 'card': 917,\n",
              " 'kerry': 918,\n",
              " 'wait': 919,\n",
              " 'try': 920,\n",
              " 'throws': 921,\n",
              " 'tour': 922,\n",
              " 'pregnant': 923,\n",
              " 'pizza': 924,\n",
              " 'dying': 925,\n",
              " 'press': 926,\n",
              " 'chicken': 927,\n",
              " 'urges': 928,\n",
              " 'reveal': 929,\n",
              " 'simple': 930,\n",
              " 'green': 931,\n",
              " 'economy': 932,\n",
              " 'problems': 933,\n",
              " 'culture': 934,\n",
              " 'lgbtq': 935,\n",
              " 'asking': 936,\n",
              " 'ebola': 937,\n",
              " 'robert': 938,\n",
              " 'learn': 939,\n",
              " 'performance': 940,\n",
              " 'album': 941,\n",
              " 'church': 942,\n",
              " 'begins': 943,\n",
              " 'officer': 944,\n",
              " 'shop': 945,\n",
              " 'poor': 946,\n",
              " 'uses': 947,\n",
              " 'plane': 948,\n",
              " 'families': 949,\n",
              " 'harassment': 950,\n",
              " 'picture': 951,\n",
              " 'jobs': 952,\n",
              " 'fails': 953,\n",
              " 'sean': 954,\n",
              " 'voter': 955,\n",
              " 'beauty': 956,\n",
              " 'demand': 957,\n",
              " 'doctor': 958,\n",
              " \"we're\": 959,\n",
              " 'spot': 960,\n",
              " 'shares': 961,\n",
              " 'leads': 962,\n",
              " 'hilarious': 963,\n",
              " 'suggests': 964,\n",
              " 'rally': 965,\n",
              " 'results': 966,\n",
              " 'ideas': 967,\n",
              " '18': 968,\n",
              " 'jenner': 969,\n",
              " 'arrested': 970,\n",
              " 'male': 971,\n",
              " 'fuck': 972,\n",
              " 'leaving': 973,\n",
              " 'address': 974,\n",
              " 'rest': 975,\n",
              " 'receives': 976,\n",
              " 'amid': 977,\n",
              " 'epa': 978,\n",
              " 'deadly': 979,\n",
              " 'netflix': 980,\n",
              " 'desperate': 981,\n",
              " 'planet': 982,\n",
              " 'cnn': 983,\n",
              " 'marijuana': 984,\n",
              " 'quietly': 985,\n",
              " 'action': 986,\n",
              " 'website': 987,\n",
              " 'pick': 988,\n",
              " 'explains': 989,\n",
              " 'table': 990,\n",
              " 'energy': 991,\n",
              " 'users': 992,\n",
              " 'feeling': 993,\n",
              " 'sales': 994,\n",
              " 'colbert': 995,\n",
              " 'apparently': 996,\n",
              " \"let's\": 997,\n",
              " 'amazing': 998,\n",
              " 'went': 999,\n",
              " 'budget': 1000,\n",
              " ...}"
            ]
          },
          "metadata": {
            "tags": []
          },
          "execution_count": 25
        }
      ]
    },
    {
      "cell_type": "markdown",
      "metadata": {
        "id": "VRiNX58Rb3oJ"
      },
      "source": [
        "### Set number of words\n",
        "- Since the above 0th index doesn't have a word, add 1 to the length of the vocabulary"
      ]
    },
    {
      "cell_type": "code",
      "metadata": {
        "id": "Dfwq6ou8ck2f",
        "colab": {
          "base_uri": "https://localhost:8080/"
        },
        "outputId": "7dc2ed19-49aa-4b9c-add1-caea205b68ce"
      },
      "source": [
        "num_words = len(tokenizer.word_index) + 1\n",
        "print(num_words)"
      ],
      "execution_count": 26,
      "outputs": [
        {
          "output_type": "stream",
          "text": [
            "29657\n"
          ],
          "name": "stdout"
        }
      ]
    },
    {
      "cell_type": "markdown",
      "metadata": {
        "id": "bUF1TuQa8ux0"
      },
      "source": [
        "### Load Glove Word Embeddings (5 Marks)"
      ]
    },
    {
      "cell_type": "code",
      "metadata": {
        "id": "vq5AIfRtMeZh"
      },
      "source": [
        ""
      ],
      "execution_count": null,
      "outputs": []
    },
    {
      "cell_type": "markdown",
      "metadata": {
        "id": "prHSzdQUcZhm"
      },
      "source": [
        "### Create embedding matrix"
      ]
    },
    {
      "cell_type": "code",
      "metadata": {
        "id": "elZ-T5aFGZmZ"
      },
      "source": [
        "EMBEDDING_FILE = project_path + './glove.6B.200d.txt'\n",
        "\n",
        "embeddings = {}\n",
        "for o in open(EMBEDDING_FILE):\n",
        "    word = o.split(\" \")[0]\n",
        "    # print(word)\n",
        "    embd = o.split(\" \")[1:]\n",
        "    embd = np.asarray(embd, dtype='float32')\n",
        "    # print(embd)\n",
        "    embeddings[word] = embd\n",
        "\n",
        "# create a weight matrix for words in training docs\n",
        "embedding_matrix = np.zeros((num_words, 200))\n",
        "\n",
        "for word, i in tokenizer.word_index.items():\n",
        "\tembedding_vector = embeddings.get(word)\n",
        "\tif embedding_vector is not None:\n",
        "\t\tembedding_matrix[i] = embedding_vector"
      ],
      "execution_count": 27,
      "outputs": []
    },
    {
      "cell_type": "markdown",
      "metadata": {
        "id": "u7IbWuEX82Ra"
      },
      "source": [
        "### Define model (10 Marks)\n",
        "- Hint: Use Sequential model instance and then add Embedding layer, Bidirectional(LSTM) layer, flatten it, then dense and dropout layers as required. \n",
        "In the end add a final dense layer with sigmoid activation for binary classification."
      ]
    },
    {
      "cell_type": "code",
      "metadata": {
        "id": "4tv168Gmc3PY",
        "colab": {
          "base_uri": "https://localhost:8080/"
        },
        "outputId": "6c41661d-855a-4a67-b772-37b55c60e6c3"
      },
      "source": [
        "model = Sequential()\r\n",
        "model.add(Embedding(num_words, 200,input_length=maxlen, weights= [embedding_matrix], trainable=False)) \r\n",
        "model.add(Dropout(0.2))\r\n",
        "model.add(LSTM(200, dropout=0.2, recurrent_dropout=0.2))\r\n",
        "model.add(Flatten())\r\n",
        "model.add(Dense(48,activation='relu'))\r\n",
        "model.add(Dropout(0.2))\r\n",
        "model.add(Dense(24,activation='relu'))\r\n",
        "model.add(Dropout(0.2))\r\n",
        "model.add(Dense(12,activation='softmax'))\r\n",
        "model.add(Dropout(0.2))\r\n",
        "model.add(Dense(1, activation='sigmoid'))\r\n",
        "model.summary()"
      ],
      "execution_count": 30,
      "outputs": [
        {
          "output_type": "stream",
          "text": [
            "WARNING:tensorflow:Layer lstm will not use cuDNN kernel since it doesn't meet the cuDNN kernel criteria. It will use generic GPU kernel as fallback when running on GPU\n",
            "Model: \"sequential\"\n",
            "_________________________________________________________________\n",
            "Layer (type)                 Output Shape              Param #   \n",
            "=================================================================\n",
            "embedding (Embedding)        (None, 25, 200)           5931400   \n",
            "_________________________________________________________________\n",
            "dropout (Dropout)            (None, 25, 200)           0         \n",
            "_________________________________________________________________\n",
            "lstm (LSTM)                  (None, 200)               320800    \n",
            "_________________________________________________________________\n",
            "flatten (Flatten)            (None, 200)               0         \n",
            "_________________________________________________________________\n",
            "dense (Dense)                (None, 48)                9648      \n",
            "_________________________________________________________________\n",
            "dropout_1 (Dropout)          (None, 48)                0         \n",
            "_________________________________________________________________\n",
            "dense_1 (Dense)              (None, 24)                1176      \n",
            "_________________________________________________________________\n",
            "dropout_2 (Dropout)          (None, 24)                0         \n",
            "_________________________________________________________________\n",
            "dense_2 (Dense)              (None, 12)                300       \n",
            "_________________________________________________________________\n",
            "dropout_3 (Dropout)          (None, 12)                0         \n",
            "_________________________________________________________________\n",
            "dense_3 (Dense)              (None, 1)                 13        \n",
            "=================================================================\n",
            "Total params: 6,263,337\n",
            "Trainable params: 331,937\n",
            "Non-trainable params: 5,931,400\n",
            "_________________________________________________________________\n"
          ],
          "name": "stdout"
        }
      ]
    },
    {
      "cell_type": "markdown",
      "metadata": {
        "id": "xoI7_8Y1cqTj"
      },
      "source": [
        "### Compile the model (5 Marks)"
      ]
    },
    {
      "cell_type": "code",
      "metadata": {
        "id": "-jJiPHeNoJ3U"
      },
      "source": [
        "model.compile(loss='binary_crossentropy', optimizer='adam', metrics=['accuracy'])"
      ],
      "execution_count": 31,
      "outputs": []
    },
    {
      "cell_type": "markdown",
      "metadata": {
        "id": "7s4nmqcecw3a"
      },
      "source": [
        "### Fit the model (5 Marks)"
      ]
    },
    {
      "cell_type": "code",
      "metadata": {
        "id": "NN789zNnJ5PL",
        "colab": {
          "base_uri": "https://localhost:8080/"
        },
        "outputId": "3c04dd72-4fad-4bd9-e315-9ce9ec85096d"
      },
      "source": [
        "history=model.fit(X, y, validation_split=0.2, epochs = 15)"
      ],
      "execution_count": 36,
      "outputs": [
        {
          "output_type": "stream",
          "text": [
            "Epoch 1/15\n",
            "668/668 [==============================] - 68s 97ms/step - loss: 0.6893 - accuracy: 0.5414 - val_loss: 0.6841 - val_accuracy: 0.5680\n",
            "Epoch 2/15\n",
            "668/668 [==============================] - 64s 96ms/step - loss: 0.6835 - accuracy: 0.5686 - val_loss: 0.6844 - val_accuracy: 0.5678\n",
            "Epoch 3/15\n",
            "668/668 [==============================] - 63s 95ms/step - loss: 0.6814 - accuracy: 0.5716 - val_loss: 0.5864 - val_accuracy: 0.7336\n",
            "Epoch 4/15\n",
            "668/668 [==============================] - 64s 96ms/step - loss: 0.5961 - accuracy: 0.6972 - val_loss: 0.5051 - val_accuracy: 0.7834\n",
            "Epoch 5/15\n",
            "668/668 [==============================] - 63s 94ms/step - loss: 0.5270 - accuracy: 0.7467 - val_loss: 0.4444 - val_accuracy: 0.8218\n",
            "Epoch 6/15\n",
            "668/668 [==============================] - 66s 98ms/step - loss: 0.4800 - accuracy: 0.7730 - val_loss: 0.4362 - val_accuracy: 0.8209\n",
            "Epoch 7/15\n",
            "668/668 [==============================] - 64s 95ms/step - loss: 0.4419 - accuracy: 0.7962 - val_loss: 0.3746 - val_accuracy: 0.8504\n",
            "Epoch 8/15\n",
            "668/668 [==============================] - 64s 96ms/step - loss: 0.4149 - accuracy: 0.8146 - val_loss: 0.3643 - val_accuracy: 0.8493\n",
            "Epoch 9/15\n",
            "668/668 [==============================] - 63s 95ms/step - loss: 0.3844 - accuracy: 0.8436 - val_loss: 0.3449 - val_accuracy: 0.8622\n",
            "Epoch 10/15\n",
            "668/668 [==============================] - 64s 95ms/step - loss: 0.3569 - accuracy: 0.8615 - val_loss: 0.3411 - val_accuracy: 0.8604\n",
            "Epoch 11/15\n",
            "668/668 [==============================] - 63s 94ms/step - loss: 0.3353 - accuracy: 0.8674 - val_loss: 0.3287 - val_accuracy: 0.8635\n",
            "Epoch 12/15\n",
            "668/668 [==============================] - 64s 96ms/step - loss: 0.3153 - accuracy: 0.8795 - val_loss: 0.3322 - val_accuracy: 0.8622\n",
            "Epoch 13/15\n",
            "668/668 [==============================] - 63s 95ms/step - loss: 0.2917 - accuracy: 0.8875 - val_loss: 0.3177 - val_accuracy: 0.8662\n",
            "Epoch 14/15\n",
            "668/668 [==============================] - 64s 96ms/step - loss: 0.2837 - accuracy: 0.8911 - val_loss: 0.3241 - val_accuracy: 0.8650\n",
            "Epoch 15/15\n",
            "668/668 [==============================] - 64s 96ms/step - loss: 0.2655 - accuracy: 0.8994 - val_loss: 0.3198 - val_accuracy: 0.8735\n"
          ],
          "name": "stdout"
        }
      ]
    },
    {
      "cell_type": "code",
      "metadata": {
        "colab": {
          "base_uri": "https://localhost:8080/",
          "height": 573
        },
        "id": "mNuRrAClad9i",
        "outputId": "9746dc66-152f-4a60-cfc8-57d787b87658"
      },
      "source": [
        "# summarize history for accuracy\r\n",
        "plt.plot(history.history['accuracy'])\r\n",
        "plt.plot(history.history['val_accuracy'])\r\n",
        "plt.title('model accuracy')\r\n",
        "plt.ylabel('accuracy')\r\n",
        "plt.xlabel('epoch')\r\n",
        "plt.legend(['train', 'test'], loc='upper left')\r\n",
        "plt.show()\r\n",
        "# summarize history for loss\r\n",
        "plt.plot(history.history['loss'])\r\n",
        "plt.plot(history.history['val_loss'])\r\n",
        "plt.title('model loss')\r\n",
        "plt.ylabel('loss')\r\n",
        "plt.xlabel('epoch')\r\n",
        "plt.legend(['train', 'test'], loc='upper left')\r\n",
        "plt.show()"
      ],
      "execution_count": 39,
      "outputs": [
        {
          "output_type": "display_data",
          "data": {
            "image/png": "[encoded data removed]",
            "text/plain": [
              "<Figure size 432x288 with 1 Axes>"
            ]
          },
          "metadata": {
            "tags": [],
            "needs_background": "light"
          }
        },
        {
          "output_type": "display_data",
          "data": {
            "image/png": "[encoded data removed]",
            "text/plain": [
              "<Figure size 432x288 with 1 Axes>"
            ]
          },
          "metadata": {
            "tags": [],
            "needs_background": "light"
          }
        }
      ]
    },
    {
      "cell_type": "markdown",
      "metadata": {
        "id": "ycW13H0pfjhU"
      },
      "source": [
        "We can see that our model has done well to fit the the data and our accuracy has gone up to 87% over 15 epochs. From the above graph we can see that the curve flattens greatly after approximately the 10th epoch, hence, we can be sure that increasing the number of epochs would not greatly increase our model accuracy. We can, however, fine tune further by using the LSTM dimensions. "
      ]
    }
  ]
}